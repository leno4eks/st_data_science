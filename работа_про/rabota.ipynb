{
 "cells": [
  {
   "cell_type": "code",
   "execution_count": 11,
   "metadata": {},
   "outputs": [],
   "source": [
    "import pandas as pd\n",
    "#chehov24 = pd.read_excel('D:\\idi\\skilfaktory\\PYTHON-10. Введение в Pandas\\Чехов АПК 22.xlsx')\n",
    "#chehov23 = pd.read_excel('D:\\idi\\skilfaktory\\PYTHON-10. Введение в Pandas\\Чехов АПК 23.xlsx')\n",
    "dvy=pd.read_excel('D:\\idi\\работа_про\\тест дву ч.xlsx')\n",
    "contract= pd.read_excel('D:\\idi\\работа_про\\тест чехов.xlsx')\n",
    "dvy_1=pd.read_excel('D:\\idi\\работа_про\\Выписка по клубным картам.xlsx')\n",
    "contract_1= pd.read_excel('D:\\idi\\работа_про\\Лист Microsoft Excel.xlsx')\n"
   ]
  },
  {
   "cell_type": "code",
   "execution_count": 12,
   "metadata": {},
   "outputs": [],
   "source": [
    "result_df = dvy.merge(contract, on=[' ФИО персоны', ' Дата'])\n",
    "result_df.to_excel('D:result_df.xlsx')\n",
    "\n",
    "chehov = contract_1.merge(dvy_1, on=[' ФИО персоны'])\n",
    "chehov.to_excel('D:chehov.xlsx')"
   ]
  },
  {
   "cell_type": "code",
   "execution_count": 2,
   "metadata": {},
   "outputs": [],
   "source": [
    "#chehov24.describe(include=['object'])"
   ]
  },
  {
   "cell_type": "code",
   "execution_count": 3,
   "metadata": {},
   "outputs": [],
   "source": [
    "#chehov23.describe(include=['object'])"
   ]
  },
  {
   "cell_type": "code",
   "execution_count": 4,
   "metadata": {},
   "outputs": [],
   "source": [
    "#chehov_card = pd.read_excel('D:\\idi\\skilfaktory\\PYTHON-10. Введение в Pandas\\Продажи клубных карт чехов лето.xlsx')"
   ]
  },
  {
   "cell_type": "code",
   "execution_count": 5,
   "metadata": {},
   "outputs": [],
   "source": [
    "#chehov_card.info()"
   ]
  },
  {
   "cell_type": "code",
   "execution_count": 6,
   "metadata": {},
   "outputs": [],
   "source": [
    "#a= chehov_card[chehov_card[' Месяц'] == 'Июнь'].describe(include='object')\n",
    "#display(a)"
   ]
  },
  {
   "cell_type": "markdown",
   "metadata": {},
   "source": []
  },
  {
   "cell_type": "code",
   "execution_count": 7,
   "metadata": {},
   "outputs": [],
   "source": [
    "#chehov_card.describe()"
   ]
  },
  {
   "cell_type": "code",
   "execution_count": 8,
   "metadata": {},
   "outputs": [],
   "source": [
    "#podolsk_card = pd.read_excel('D:\\idi\\skilfaktory\\PYTHON-10. Введение в Pandas\\Продажи клубных карт Подольск ию-ав,23.xlsx')"
   ]
  },
  {
   "cell_type": "code",
   "execution_count": 9,
   "metadata": {},
   "outputs": [],
   "source": [
    "#podolsk_card.describe(include='object')"
   ]
  },
  {
   "cell_type": "code",
   "execution_count": 10,
   "metadata": {},
   "outputs": [],
   "source": [
    "#kk=podolsk_card[(podolsk_card[' Месяц'] == 'Июль')].describe(include='object')\n",
    "#display(kk)\n"
   ]
  },
  {
   "cell_type": "code",
   "execution_count": 78,
   "metadata": {},
   "outputs": [
    {
     "name": "stdout",
     "output_type": "stream",
     "text": [
      " Месяц                          1  2  3  4  5\n",
      " ФИО персоны                                 \n",
      "CRAFT _                         0  0  0  1  0\n",
      "Crafttest Test                  0  0  0  1  0\n",
      "Абагян Александр Юрьевич        0  6  6  0  1\n",
      "Абаева Елена Сергеевна          1  8  4  6  4\n",
      "Абазова Надежда                 0  0  0  1  0\n",
      "...                            .. .. .. .. ..\n",
      "Ястребова Ирина Михайловна     10  7  9  7  1\n",
      "Яушева Елена Андреевна          5  9  6  6  5\n",
      "Яцковская Елена Александровна   3  1  6  3  0\n",
      "Яшин Алексей Михайлович         0  0  5  8  5\n",
      "Яшкин Роман Георгиевич          6  8  6  6  3\n",
      "\n",
      "[3272 rows x 5 columns]\n"
     ]
    }
   ],
   "source": [
    "podolsk = podolsk_1.pivot_table(\n",
    "    values=' Визиты',\n",
    "    index=' ФИО персоны',\n",
    "    columns=' Месяц',\n",
    "    aggfunc='sum',\n",
    "    fill_value=0\n",
    ")\n",
    "\n",
    "print(podolsk)\n"
   ]
  },
  {
   "cell_type": "code",
   "execution_count": null,
   "metadata": {},
   "outputs": [],
   "source": [
    "if "
   ]
  },
  {
   "cell_type": "code",
   "execution_count": 79,
   "metadata": {},
   "outputs": [],
   "source": [
    "\n",
    "\n",
    "podolsk.to_excel('D:\\idi\\skilfaktory\\PYTHON-10. Введение в Pandas\\DATA\\poshenie_pdsk.xlsx')\n"
   ]
  },
  {
   "cell_type": "code",
   "execution_count": null,
   "metadata": {},
   "outputs": [],
   "source": []
  }
 ],
 "metadata": {
  "kernelspec": {
   "display_name": "Python 3",
   "language": "python",
   "name": "python3"
  },
  "language_info": {
   "codemirror_mode": {
    "name": "ipython",
    "version": 3
   },
   "file_extension": ".py",
   "mimetype": "text/x-python",
   "name": "python",
   "nbconvert_exporter": "python",
   "pygments_lexer": "ipython3",
   "version": "3.11.9"
  }
 },
 "nbformat": 4,
 "nbformat_minor": 2
}
