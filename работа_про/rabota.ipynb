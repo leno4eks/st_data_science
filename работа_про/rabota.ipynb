{
 "cells": [
  {
   "cell_type": "code",
   "execution_count": 53,
   "metadata": {},
   "outputs": [],
   "source": [
    "import pandas as pd\n",
    "#chehov24 = pd.read_excel('D:\\idi\\skilfaktory\\PYTHON-10. Введение в Pandas\\Чехов АПК 22.xlsx')\n",
    "#chehov23 = pd.read_excel('D:\\idi\\skilfaktory\\PYTHON-10. Введение в Pandas\\Чехов АПК 23.xlsx')"
   ]
  },
  {
   "cell_type": "code",
   "execution_count": 54,
   "metadata": {},
   "outputs": [],
   "source": [
    "#chehov24.describe(include=['object'])"
   ]
  },
  {
   "cell_type": "code",
   "execution_count": 55,
   "metadata": {},
   "outputs": [],
   "source": [
    "#chehov23.describe(include=['object'])"
   ]
  },
  {
   "cell_type": "code",
   "execution_count": 56,
   "metadata": {},
   "outputs": [],
   "source": [
    "#chehov_card = pd.read_excel('D:\\idi\\skilfaktory\\PYTHON-10. Введение в Pandas\\Продажи клубных карт чехов лето.xlsx')"
   ]
  },
  {
   "cell_type": "code",
   "execution_count": 57,
   "metadata": {},
   "outputs": [],
   "source": [
    "#chehov_card.info()"
   ]
  },
  {
   "cell_type": "code",
   "execution_count": 58,
   "metadata": {},
   "outputs": [],
   "source": [
    "#a= chehov_card[chehov_card[' Месяц'] == 'Июнь'].describe(include='object')\n",
    "#display(a)"
   ]
  },
  {
   "cell_type": "markdown",
   "metadata": {},
   "source": []
  },
  {
   "cell_type": "code",
   "execution_count": 59,
   "metadata": {},
   "outputs": [],
   "source": [
    "#chehov_card.describe()"
   ]
  },
  {
   "cell_type": "code",
   "execution_count": 60,
   "metadata": {},
   "outputs": [],
   "source": [
    "#podolsk_card = pd.read_excel('D:\\idi\\skilfaktory\\PYTHON-10. Введение в Pandas\\Продажи клубных карт Подольск ию-ав,23.xlsx')"
   ]
  },
  {
   "cell_type": "code",
   "execution_count": 61,
   "metadata": {},
   "outputs": [],
   "source": [
    "#podolsk_card.describe(include='object')"
   ]
  },
  {
   "cell_type": "code",
   "execution_count": 62,
   "metadata": {},
   "outputs": [],
   "source": [
    "#kk=podolsk_card[(podolsk_card[' Месяц'] == 'Июль')].describe(include='object')\n",
    "#display(kk)\n"
   ]
  },
  {
   "cell_type": "code",
   "execution_count": 63,
   "metadata": {},
   "outputs": [
    {
     "name": "stdout",
     "output_type": "stream",
     "text": [
      "<class 'pandas.core.frame.DataFrame'>\n",
      "RangeIndex: 65535 entries, 0 to 65534\n",
      "Data columns (total 33 columns):\n",
      " #   Column               Non-Null Count  Dtype         \n",
      "---  ------               --------------  -----         \n",
      " 0    Гр. карты/браслета  65535 non-null  object        \n",
      " 1    Визиты              65535 non-null  int64         \n",
      " 2    Пол                 65535 non-null  object        \n",
      " 3    В.                  65535 non-null  int64         \n",
      " 4    Возр. группа        65535 non-null  object        \n",
      " 5    ФИО персоны         65535 non-null  object        \n",
      " 6    Дата                65535 non-null  datetime64[ns]\n",
      " 7    Время               65535 non-null  datetime64[ns]\n",
      " 8    Час                 65535 non-null  int64         \n",
      " 9    Дл. (час)           65535 non-null  int64         \n",
      " 10   Дл. (мин)           65535 non-null  int64         \n",
      " 11   Выход               65535 non-null  datetime64[ns]\n",
      " 12   Ключ                0 non-null      float64       \n",
      " 13   Оператор            65535 non-null  object        \n",
      " 14   Месяц               65535 non-null  int64         \n",
      " 15   День недели         65535 non-null  object        \n",
      " 16   Ср. дл. (мин)       65535 non-null  int64         \n",
      " 17  Unnamed: 17          0 non-null      float64       \n",
      " 18   № контракта         0 non-null      float64       \n",
      " 19   Шаблон контракт     0 non-null      float64       \n",
      " 20   Договор             0 non-null      float64       \n",
      " 21   Куратор контракта   0 non-null      float64       \n",
      " 22   Гр. доступа         0 non-null      float64       \n",
      " 23   Гр. длительности    0 non-null      float64       \n",
      " 24   Дата старта         0 non-null      float64       \n",
      " 25   Дни со старта       0 non-null      float64       \n",
      " 26   Неделя со старта    0 non-null      float64       \n",
      " 27   Месяц со старта     0 non-null      float64       \n",
      " 28   Год со старта       0 non-null      float64       \n",
      " 29   Неделя со старта.1  0 non-null      float64       \n",
      " 30   Месяц со старта.1   0 non-null      float64       \n",
      " 31   Квартал со старта   0 non-null      float64       \n",
      " 32   Год со старта.1     0 non-null      float64       \n",
      "dtypes: datetime64[ns](3), float64(17), int64(7), object(6)\n",
      "memory usage: 16.5+ MB\n"
     ]
    }
   ],
   "source": [
    "podolsk_1 = pd.read_excel('D:\\idi\\project_0\\Посещения клуба.xlsx')\n",
    "podolsk_1.info()"
   ]
  },
  {
   "cell_type": "code",
   "execution_count": 78,
   "metadata": {},
   "outputs": [
    {
     "name": "stdout",
     "output_type": "stream",
     "text": [
      " Месяц                          1  2  3  4  5\n",
      " ФИО персоны                                 \n",
      "CRAFT _                         0  0  0  1  0\n",
      "Crafttest Test                  0  0  0  1  0\n",
      "Абагян Александр Юрьевич        0  6  6  0  1\n",
      "Абаева Елена Сергеевна          1  8  4  6  4\n",
      "Абазова Надежда                 0  0  0  1  0\n",
      "...                            .. .. .. .. ..\n",
      "Ястребова Ирина Михайловна     10  7  9  7  1\n",
      "Яушева Елена Андреевна          5  9  6  6  5\n",
      "Яцковская Елена Александровна   3  1  6  3  0\n",
      "Яшин Алексей Михайлович         0  0  5  8  5\n",
      "Яшкин Роман Георгиевич          6  8  6  6  3\n",
      "\n",
      "[3272 rows x 5 columns]\n"
     ]
    }
   ],
   "source": [
    "podolsk = podolsk_1.pivot_table(\n",
    "    values=' Визиты',\n",
    "    index=' ФИО персоны',\n",
    "    columns=' Месяц',\n",
    "    aggfunc='sum',\n",
    "    fill_value=0\n",
    ")\n",
    "\n",
    "print(podolsk)\n"
   ]
  },
  {
   "cell_type": "code",
   "execution_count": null,
   "metadata": {},
   "outputs": [],
   "source": [
    "if "
   ]
  },
  {
   "cell_type": "code",
   "execution_count": 79,
   "metadata": {},
   "outputs": [],
   "source": [
    "\n",
    "\n",
    "podolsk.to_excel('D:\\idi\\skilfaktory\\PYTHON-10. Введение в Pandas\\DATA\\poshenie_pdsk.xlsx')\n"
   ]
  }
 ],
 "metadata": {
  "kernelspec": {
   "display_name": "Python 3",
   "language": "python",
   "name": "python3"
  },
  "language_info": {
   "codemirror_mode": {
    "name": "ipython",
    "version": 3
   },
   "file_extension": ".py",
   "mimetype": "text/x-python",
   "name": "python",
   "nbconvert_exporter": "python",
   "pygments_lexer": "ipython3",
   "version": "3.11.9"
  }
 },
 "nbformat": 4,
 "nbformat_minor": 2
}
